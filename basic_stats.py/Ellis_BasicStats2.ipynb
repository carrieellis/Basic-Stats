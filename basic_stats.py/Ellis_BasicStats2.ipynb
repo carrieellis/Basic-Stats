{
 "cells": [
  {
   "cell_type": "markdown",
   "metadata": {},
   "source": [
    "## Script to calculate Basic Statistics"
   ]
  },
  {
   "cell_type": "markdown",
   "metadata": {},
   "source": [
    "### Equation for the mean:   $\\mu_x = \\sum_{i=1}^{N}\\frac{x_i}{N}$\n",
    "\n",
    "### Equation for the standard deviation:  $\\sigma_x = \\sqrt{\\sum_{i=1}^{N}\\left(x_i - \\mu \\right)^2}\\frac{1}{N-1}$\n",
    "\n",
    "\n",
    "**Instructions:**\n",
    "\n",
    "**(1) Before you write code, write an algorithm that describes the sequence of steps you will take to compute the mean and standard deviation for your samples.  The algorithm can be written in pseudocode or as an itemized list.***\n",
    "\n",
    "**(2) Use 'for' loops to help yourself compute the average and standard deviation.**\n",
    "\n",
    "**(3) Use for loops and conditional operators to count the number of samples within $1\\sigma$ of the mean.**\n",
    "\n",
    "**Note:** It is not acceptable to use the pre-programmed routines for mean and st. dev., e.g. numpy.mean()"
   ]
  },
  {
   "cell_type": "markdown",
   "metadata": {},
   "source": [
    "### Edit this box to write an algorithm for computing the mean and std. deviation.\n",
    "\n",
    "Mean:\n",
    "Initialize count variable –  increment count by 1\n",
    "Add to the sum\n",
    "Divide the sum by the count\n",
    "\n",
    "\n",
    "For the standard deviation:\n",
    "For the variance: subract the mean from each element in the list, square the sum of those numbers, divide that by the count\n",
    "Raise the variance to the power of 0.5\n",
    "\n",
    "\n",
    "~~~"
   ]
  },
  {
   "cell_type": "markdown",
   "metadata": {},
   "source": [
    "### Write your code using instructions in the cells below."
   ]
  },
  {
   "cell_type": "code",
   "execution_count": 1,
   "metadata": {},
   "outputs": [],
   "source": [
    "# Put your Header information here.  Name, creation date, version, etc.\n"
   ]
  },
  {
   "cell_type": "code",
   "execution_count": 3,
   "metadata": {},
   "outputs": [],
   "source": [
    "# Import the matplotlib module here.  No other modules should be used\n",
    "import matplotlib.pyplot as plt"
   ]
  },
  {
   "cell_type": "code",
   "execution_count": 4,
   "metadata": {},
   "outputs": [],
   "source": [
    "# Create a list variable that contains at least 25 elements.  You can create this list any number of ways.  \n",
    "# This will be your sample.\n",
    "\n",
    "list_1 = [1, 2, 3, 4, 5, 6, 7, 8, 9, 10, 11, 12, 13, 14, 15, 16, 17, 18, 19, 20, 21, 22, 23, 24, 25]"
   ]
  },
  {
   "cell_type": "markdown",
   "metadata": {},
   "source": [
    "**From Brice:  This only works because the last value in x happens to match the length of x.  This was a good way to compute the length of x, but in this solution the value of x represents the length, not N.  N represents the last value in the array.**"
   ]
  },
  {
   "cell_type": "code",
   "execution_count": 5,
   "metadata": {},
   "outputs": [
    {
     "name": "stdout",
     "output_type": "stream",
     "text": [
      "25\n"
     ]
    }
   ],
   "source": [
    "# Pretend you do not know how Long x is; comput it's length, N, without using functions or modules.\n",
    "\n",
    "N = 0\n",
    "for i in list_1:\n",
    "    N += 1\n",
    "print(N)\n"
   ]
  },
  {
   "cell_type": "code",
   "execution_count": 7,
   "metadata": {},
   "outputs": [
    {
     "name": "stdout",
     "output_type": "stream",
     "text": [
      "13.0\n"
     ]
    }
   ],
   "source": [
    "# Compute the mean of the elements in list x.\n",
    "\n",
    "sum = 0\n",
    "for i in list_1:\n",
    "    sum = sum + i\n",
    "    \n",
    "mu = sum/N\n",
    "\n",
    "print(mu)"
   ]
  },
  {
   "cell_type": "markdown",
   "metadata": {},
   "source": [
    "**From Brice:  Again, this doesn't capture the mean, as per the equation at the top.**"
   ]
  },
  {
   "cell_type": "code",
   "execution_count": null,
   "metadata": {},
   "outputs": [],
   "source": []
  },
  {
   "cell_type": "code",
   "execution_count": 33,
   "metadata": {},
   "outputs": [
    {
     "name": "stdout",
     "output_type": "stream",
     "text": [
      "7.211102550927978\n"
     ]
    }
   ],
   "source": [
    "# Compute the std deviation, using the mean and the elements in list x.\n",
    "\n",
    "list_2 = [((i - mu) ** 2) for i in list_1]\n",
    "\n",
    "sum_2=0\n",
    "for i in list_2:\n",
    "    sum_2=sum_2 + i\n",
    "\n",
    "std = (sum_2/N) ** 0.5\n",
    "print(std)\n"
   ]
  },
  {
   "cell_type": "markdown",
   "metadata": {},
   "source": [
    "**This equation would be correct, but for the incorrect value of mu.   Also, you should have already computed the len(list_1) so there should be no need to recompute it.**"
   ]
  },
  {
   "cell_type": "code",
   "execution_count": 34,
   "metadata": {},
   "outputs": [
    {
     "name": "stdout",
     "output_type": "stream",
     "text": [
      "13.0\n",
      "7.211102550927978\n"
     ]
    }
   ],
   "source": [
    "# Use the 'print' command to report the values of average (mu) and std. dev. (sigma).\n",
    "\n",
    "print(mu)\n",
    "\n",
    "print(std)\n"
   ]
  },
  {
   "cell_type": "code",
   "execution_count": 35,
   "metadata": {},
   "outputs": [
    {
     "name": "stdout",
     "output_type": "stream",
     "text": [
      "15\n"
     ]
    }
   ],
   "source": [
    "# Count the number of values that are within +/- 1 std. deviation of the mean.  \n",
    "# A normal distribution will have approx. 68% of the values within this range.  \n",
    "# Based on this criteria is the list normally distributed?\n",
    "\n",
    "upper = mu + std\n",
    "lower = mu - std\n",
    "x = 0\n",
    "for N in list_1:\n",
    "    if N < upper:\n",
    "        if N > lower:\n",
    "            x += 1\n",
    "print (x)"
   ]
  },
  {
   "cell_type": "code",
   "execution_count": 36,
   "metadata": {},
   "outputs": [
    {
     "name": "stdout",
     "output_type": "stream",
     "text": [
      "Not normally distributed\n"
     ]
    }
   ],
   "source": [
    "# Use print() and if statements to report a message about whether the data is normally distributed.\n",
    "\n",
    "if x/N > 0.67:\n",
    "    if x/N < 0.69:\n",
    "        print ('Normally distributed')\n",
    "else:\n",
    "    print ('Not normally distributed')"
   ]
  },
  {
   "cell_type": "code",
   "execution_count": 37,
   "metadata": {
    "scrolled": false
   },
   "outputs": [
    {
     "data": {
      "text/plain": [
       "Text(0.5, 1.0, 'Histogram of X')"
      ]
     },
     "execution_count": 37,
     "metadata": {},
     "output_type": "execute_result"
    },
    {
     "data": {
      "image/png": "[encoded data removed]",
      "text/plain": [
       "<Figure size 640x480 with 1 Axes>"
      ]
     },
     "metadata": {},
     "output_type": "display_data"
    }
   ],
   "source": [
    "### Use Matplotlb.pyplot to make a histogram of x.\n",
    "plt.hist(list_1, bins = 60, color = 'b', edgecolor = 'b')\n",
    "plt.xlabel ('Value')\n",
    "plt.ylabel ('Frequency')\n",
    "plt.title ('Histogram of X')\n"
   ]
  },
  {
   "cell_type": "markdown",
   "metadata": {
    "collapsed": true,
    "jupyter": {
     "outputs_hidden": true
    }
   },
   "source": [
    "### OCG 593 students, look up an equation for Skewness and write code to compute the skewness. \n",
    "#### Compute the skewness and report whether the sample is normally distributed."
   ]
  },
  {
   "cell_type": "code",
   "execution_count": 45,
   "metadata": {},
   "outputs": [
    {
     "name": "stdout",
     "output_type": "stream",
     "text": [
      "0.0\n",
      "Normally Distributed\n"
     ]
    }
   ],
   "source": [
    "list_3 = [(i-mu)**3 for i in list_1]\n",
    "sum_3=0\n",
    "for i in list_3:\n",
    "    sum_3=sum_3+i\n",
    "skew=sum_3/(N-1)*(std**3)\n",
    "\n",
    "print(skew)\n",
    "\n",
    "if skew == 0:\n",
    "    print ('Normally Distributed')"
   ]
  },
  {
   "cell_type": "code",
   "execution_count": null,
   "metadata": {},
   "outputs": [],
   "source": []
  }
 ],
 "metadata": {
  "kernelspec": {
   "display_name": "Python 3 (ipykernel)",
   "language": "python",
   "name": "python3"
  },
  "language_info": {
   "codemirror_mode": {
    "name": "ipython",
    "version": 3
   },
   "file_extension": ".py",
   "mimetype": "text/x-python",
   "name": "python",
   "nbconvert_exporter": "python",
   "pygments_lexer": "ipython3",
   "version": "3.11.4"
  }
 },
 "nbformat": 4,
 "nbformat_minor": 4
}
